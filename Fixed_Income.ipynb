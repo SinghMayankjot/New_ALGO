{
 "cells": [
  {
   "cell_type": "code",
   "execution_count": 34,
   "metadata": {},
   "outputs": [],
   "source": [
    "import requests\n",
    "import json\n",
    "import time"
   ]
  },
  {
   "cell_type": "code",
   "execution_count": null,
   "metadata": {},
   "outputs": [],
   "source": [
    "# API_KEY = {'X-API-Key':'3PAFQ3IA'}\n",
    "\n",
    "# def news_writer():\n",
    "#     url = \"http://localhost:9999/v1/News\"\n",
    "\n",
    "#     payload = {}\n",
    "#     headers = {\n",
    "#     'X-API-Key': '3PAFQ3IA'\n",
    "#     }\n",
    "\n",
    "#     flag = True\n",
    "\n",
    "#     while flag:\n",
    "#         status  = requests.get(\"http://localhost:9999/v1/case\", headers=headers, data=payload)\n",
    "#         status = status.json()\n",
    "#         current_status = status['status']\n",
    "#         if current_status == 'ACTIVE':\n",
    "#             if status['tick'] > 300 and status['period'] == 2:\n",
    "#                 break\n",
    "#             print(\"Case less than 300 ticks or in period 1\")\n",
    "#             if status['period'] == 1:\n",
    "#                 time.sleep(312)\n",
    "#             else:\n",
    "#                 sleep_time = 300 - status['tick']\n",
    "#                 if sleep_time > 0:\n",
    "#                     time.sleep(sleep_time)\n",
    "#                 else:\n",
    "#                     pass\n",
    "#         else:\n",
    "#             print(\"Case Inactive\")\n",
    "#             time.sleep(5)\n",
    "                        \n",
    "#     output = requests.get(url, headers=headers, data=payload)\n",
    "#     output = output.json()\n",
    "#     my_string = None\n",
    "#     counter = 2\n",
    "#     for items in output:\n",
    "#         if my_string is None:\n",
    "#             my_string = \"\\n1. \"+ items['body']\n",
    "#         else:\n",
    "#             my_string = my_string + \"\\n\"+ str(counter) +\".\" + items['body']\n",
    "#             counter += 1\n",
    "            \n",
    "        \n",
    "\n",
    "#     # Specify the file path\n",
    "#     file_path = \"News_Fixed_Income.txt\"\n",
    "\n",
    "#     # Open the file in write mode ('w')\n",
    "#     with open(file_path, 'a') as file:\n",
    "#         # Write the string to the file\n",
    "#         file.write(my_string)\n",
    "\n",
    "#     print(f'String has been stored in {file_path}')\n",
    "\n",
    "# def main():\n",
    "#     my_counter = 8\n",
    "#     for a in range(my_counter):\n",
    "#         news_writer()\n",
    "#         time.sleep(5)\n",
    "#     print(\"Done with 8 rounds of news\")\n",
    "\n",
    "# main()             \n"
   ]
  },
  {
   "cell_type": "code",
   "execution_count": 3,
   "metadata": {},
   "outputs": [],
   "source": [
    "url = \"http://localhost:9999/v1/News\"\n",
    "\n",
    "payload = {}\n",
    "headers = {\n",
    "'X-API-Key': '3PAFQ3IA'\n",
    "}\n",
    "\n",
    "flag = True"
   ]
  },
  {
   "cell_type": "code",
   "execution_count": 92,
   "metadata": {},
   "outputs": [],
   "source": [
    "arr_low = [\n",
    "    \"sales decreased by\",\n",
    "    \"sales decreasing by\",\n",
    "    \"decrease in sales\",\n",
    "    \"sales have decreased\",\n",
    "    \"operating expenses will increase\",\n",
    "    \"The company's R&D spending has increased\",\n",
    "    \"funded through retained earnings\",\n",
    "    \"direct impact on the retained earnings\",\n",
    "    \"reducing working capital\",\n",
    "    \"impact on the company's working capital\",\n",
    "    \"write-off some accounts receivable, affecting working capital\",\n",
    "    \"depreciation expense will increase\",\n",
    "    \"understated the total value of its long-term assets\",\n",
    "    \"the properties are estimated to be worth\",\n",
    "    \"may issue additional debt\",\n",
    "    \"increase the company's leverage ratio\",\n",
    "    \"take on additional debt\",\n",
    "    \"increase the risk of bankruptcy\",\n",
    "    \"operating expenses will increase\"\n",
    "]\n",
    "\n",
    "arr_high = [\"sales will increase\",\n",
    "\"sales have increased\",\n",
    "\"sales growing by\" ,\n",
    "\"sales growth remains strong\",\n",
    "\"sales increasing by\",\n",
    "\"increases in EBIT\",\n",
    "\"R&D expenses will decrease\",\n",
    "\"underlying sales grew by\",\n",
    "\"cut R&D spending to decrease expenses\",\n",
    "    \"increasing working capital\"\n",
    "]\n",
    "\n"
   ]
  },
  {
   "cell_type": "code",
   "execution_count": 93,
   "metadata": {},
   "outputs": [],
   "source": [
    "dic = {'VIOLENT STOCK SELLOFF':'No Effect ',\n",
    "       'balanced budgets by the Conservative government': 'BULLISH',\n",
    "'bond purchasing program':'BULLISH',\n",
    "'postponed increasing overnight rate':'BULLISH',\n",
    "'will extend emergency credit':'BEARISH',\n",
    "'CANADIAN REAL ESTATE MARKET STRENGTHENS':'BEARISH',\n",
    "'CANADIAN UNEMPLOYMENT DROPS':'BEARISH',\n",
    "'supply will be higher than the demand':'BEARISH',\n",
    "'new jobs exceeding expectations':'BEARISH',\n",
    "'Dink':'BEARISH',\n",
    "'PLACES CANADA ON CREDIT WATCH':'BEARISH',\n",
    "'further European sovereign downgrades':'BULLISH',\n",
    "'S&P 500 FALLS 2%':'BULLISH',\n",
    "'payrolls data for last month added only':'BULLISH',\n",
    "'VANCOUVER HOME PRICES PLUNGE':'BULLISH',\n",
    "'INFLATION SLOWS DOWN':'BULLISH',\n",
    "'BOC SOLD MORE 3- AND 5- YEAR BONDS':'BULLISH',\n",
    "'CANADIAN GDP GROWTH ON THE RISE':'BEARISH',\n",
    "'figures yesterday, showing an increase':'BEARISH',\n",
    "'CANADA UNEMPLOYMENT RATE INCREASES':'BULLISH',\n",
    "'dink':'BEARISH',\n",
    "'CPI INCREASES':'BEARISH',\n",
    "'INTENTION TO INCREASE OVERNIGHT RATE':'BEARISH',\n",
    "'Poloz announces an interest rate increase':'BEARISH',\n",
    "'Dink':'BEARISH',\n",
    "'unemployment rate has fallen':'BEARISH',\n",
    "'retail sales last month declined':'BULLISH',\n",
    "'retail sales last month increased':'BEARISH',\n",
    "'showed headline inflation increased':'BEARISH',\n",
    "'Bank of Canada will take some kind of action to control inflation':'BEARISH',\n",
    "'increase in retail spending':'BEARISH',\n",
    "'decrease in retail spending':'BULLISH',\n",
    "'personal income figures yesterday, showing an increase':'BEARISH',\n",
    "'personal income figures yesterday, showing an decrease':'BULLISH',\n",
    "'with the participation rate up a tick':'BEARISH',\n",
    "'Canadian Non-farm payrolls rose':'BEARISH',\n",
    "'Growth in the real domestic product (GDP) slowed':'BULLISH',\n",
    "'personal savings rate has decreased':'BULLISH',\n",
    "'personal savings rate has increased':'BEARISH',\n",
    "'Canadian Non-Farm payrolls data for last month':'BULLISH',\n",
    "'the Canadian Sovereign debt-rating on credit watch':'BEARISH',\n",
    "'unemployment figures, which showed an increase': 'BULLISH',\n",
    "'is a signal of economic slowdown':'BULLISH',\n",
    "'Consumer Price Index increase':'BEARISH',\n",
    "'Non-farm payrolls last month added':'BEARISH',\n",
    "'Non-farm payrolls last month lost':'BULLISH',\n",
    "'it will extend emergency credit':'BEARISH',\n",
    "'surprisingly postponed increasing the overnight rate': 'BULLISH',\n",
    "'bond purchasing program':'BULLISH'}\n"
   ]
  },
  {
   "cell_type": "code",
   "execution_count": 94,
   "metadata": {},
   "outputs": [],
   "source": [
    "def News_sentiment():\n",
    "    url = \"http://localhost:9999/v1/News\"\n",
    "\n",
    "    payload = {}\n",
    "    headers = {\n",
    "    'X-API-Key': '3PAFQ3IA'\n",
    "    }\n",
    "    current_id = -1\n",
    "    flag = True\n",
    "    while flag:\n",
    "        status  = requests.get(\"http://localhost:9999/v1/case\", headers=headers, data=payload)\n",
    "        status = status.json()\n",
    "        current_status = status['status']\n",
    "        if current_status == 'ACTIVE':\n",
    "            for a in range(800):\n",
    "                output = requests.get(url, headers=headers, data=payload)\n",
    "                output = output.json()\n",
    "                current_news = output[0]['body']\n",
    "                \n",
    "                              \n",
    "                if current_id != output[0]['news_id']:\n",
    "                    current_id = output[0]['news_id']\n",
    "                    arr = current_news.split()\n",
    "                    if arr[0] == 'Cartwright' or arr[0] == 'Bergman' or arr[0] == 'Ackroyd':\n",
    "                        flag1 = True\n",
    "                        for item in arr_low:\n",
    "                            if item.upper() in current_news.upper():\n",
    "                                print(arr[0], \"has negative news. May go Down!!\")\n",
    "                                print(current_news)\n",
    "                                flag1 = False\n",
    "                                pass\n",
    "                        for item in arr_high:\n",
    "                            if item.upper() in current_news.upper():\n",
    "                                print(arr[0], \"has positive news. May move Upp!!\")\n",
    "                                print(current_news)\n",
    "                                flag1 = False\n",
    "                                pass\n",
    "                        if flag1:\n",
    "                            print('Company News not found or no effect news')\n",
    "                            print(current_news)        \n",
    "                    elif \"credit spreads in the near future\" in current_news:\n",
    "                        if 'increase' in current_news:\n",
    "                            print(\"!!Credit Rating is coming, !!Short Company Bonds\")\n",
    "                            print(current_news)\n",
    "                        else:\n",
    "                            print(\"!!Credit Rating is coming, !!Buy Company Bonds\")\n",
    "                            print(current_news)                            \n",
    "                    else:\n",
    "                        for item in dic.keys():\n",
    "                            if item.upper() in current_news.upper():\n",
    "                                if dic[item] == 'BULLISH':\n",
    "                                    print(f\"Government bond has positive News. May move Up!!\")\n",
    "                                    print(current_news)\n",
    "                                    pass\n",
    "                                elif dic[item] == 'BEARISH':  \n",
    "                                    print(f\"Government bond has negative News. May move Down!!\")\n",
    "                                    print(current_news)\n",
    "                                    pass\n",
    "                                else:\n",
    "                                    print(\"Government News not foundor no effect news\")\n",
    "                                    print(current_news) \n",
    "                time.sleep(1)\n",
    "                status  = requests.get(\"http://localhost:9999/v1/case\", headers=headers, data=payload)\n",
    "                status = status.json()\n",
    "                current_tick = status['tick']\n",
    "                if current_tick == 142 or current_tick == 302 or current_tick == 456 or current_tick == 614:\n",
    "                    print(\"Company Ratings are about to come\")                           "
   ]
  },
  {
   "cell_type": "code",
   "execution_count": 95,
   "metadata": {},
   "outputs": [
    {
     "name": "stdout",
     "output_type": "stream",
     "text": [
      "Bergman has positive news. May move Upp!!\n",
      "Bergman Telecom's major shareholder - Alfred E Neumann - has gone on the record criticizing the CFO's plan to cut R&D spending to decrease expenses. However, the CFO has long promised increases in EBIT, and analysts expect that he will continue as planned. \n",
      "Bergman has positive news. May move Upp!!\n",
      "Bergman Telecom's major shareholder - Alfred E Neumann - has gone on the record criticizing the CFO's plan to cut R&D spending to decrease expenses. However, the CFO has long promised increases in EBIT, and analysts expect that he will continue as planned. \n",
      "Bergman has positive news. May move Upp!!\n",
      "Bergman Telecom's new capital project is cancelled, increasing working capital by $2,100 million.\n",
      "!!Credit Rating is coming, !!Buy Company Bonds\n",
      "The credit rating agencies are expecting a decrease in credit spreads in the near future.\n",
      "Ackroyd has negative news. May go Down!!\n",
      "Ackroyd Shipping has been recording a significant portion of its real estate assets as an 'off balance sheet item', understating the total value of its long-term assets. In total, the properties are estimated to be worth $2.8 billion.\n",
      "Bergman has negative news. May go Down!!\n",
      "Bergman Telecom has announced a new major capital investment, to be funded through retained earnings. This will preserve the company's ROIC, which affects management compensation. This project will cost a total of $8 million.\n",
      "Company Ratings are about to come\n",
      "Bergman has negative news. May go Down!!\n",
      "Bergman Telecom has been recording a significant portion of its real estate assets as an 'off balance sheet item', understating the total value of its long-term assets. In total, the properties are estimated to be worth $1.4 billion.\n",
      "Company News not found or no effect news\n",
      "Cartwright Industries has revealed its plan to cut costs during the current industry downturn in order to maintain a strong financial position. The company has laid off workers, and will spend less on advertising. Overall, EBIT is affected by $0.9 billion.\n",
      "Government bond has negative News. May move Down!!\n",
      "The Bank of Canada has announced that it will extend emergency credit to large corporate insurers that meet certain criteria. This will hopefully add liquidity to the markets that is currently suffering from a string of bad loans.  \n",
      "Government bond has negative News. May move Down!!\n",
      "The Bank of Canada has announced that it will extend emergency credit to large corporate insurers that meet certain criteria. This will hopefully add liquidity to the markets that is currently suffering from a string of bad loans.  \n",
      "Company Ratings are about to come\n",
      "!!Credit Rating is coming, !!Buy Company Bonds\n",
      "The credit rating agencies are expecting a decrease in credit spreads in the near future.\n",
      "Company News not found or no effect news\n",
      "Ackroyd Shippingrecently announced that it would issue $2,000 in shares, to improve its financial condition. Management's decision will have an impact on the company's assets, and, in particular, its working capital, because it will be invested in short-term and liquid marketable securities.\n",
      "Ackroyd has positive news. May move Upp!!\n",
      "Ackroyd Shipping's major shareholder - Alfred E Neumann - has gone on the record criticizing the CFO's plan to cut R&D spending to decrease expenses. However, the CFO has long promised increases in EBIT, and analysts expect that he will continue as planned. \n",
      "Ackroyd has positive news. May move Upp!!\n",
      "Ackroyd Shipping's major shareholder - Alfred E Neumann - has gone on the record criticizing the CFO's plan to cut R&D spending to decrease expenses. However, the CFO has long promised increases in EBIT, and analysts expect that he will continue as planned. \n",
      "Company News not found or no effect news\n",
      "Bergman Telecomrecently announced that it would issue $1,050 in shares, to improve its financial condition. Management's decision will have an impact on the company's assets, and, in particular, its working capital, because it will be invested in short-term and liquid marketable securities.\n",
      "Company News not found or no effect news\n",
      "Ackroyd Shipping which has recorded an exceptional sales, recently, has now reported a decline in sales of $2.0 billion.\n",
      "Ackroyd has positive news. May move Upp!!\n",
      "Ackroyd Shipping's new capital project is cancelled, increasing working capital by $800 million.\n",
      "Company Ratings are about to come\n",
      "Cartwright has negative news. May go Down!!\n",
      "Cartwright Industries’s sales decreased. This is in line with expectations following the company's last press conference. Overall, the sales decreased by $0.9 billion.\n",
      "Ackroyd has negative news. May go Down!!\n",
      "Ackroyd Shipping has announced a special dividend to all its common shareholders, after receiving important distributions from one of its subsidiaries. This will have a direct impact on the retained earnings. In total, the special dividend will be $1.4 billion.\n",
      "Government bond has positive News. May move Up!!\n",
      "S&P announced today that it is restoring Canada's AAA credit rating, citing strong moves to balanced budgets by the Conservative government, which was elected 2 years ago.\n",
      "Government bond has positive News. May move Up!!\n",
      "Jerome Powell implements a $45Bn bond purchasing program from March to May. Analysts speculate that debt investors will begin to look at Canada as alternative.\n",
      "Company News not found or no effect news\n",
      "Cartwright Industries has decided to invest in new facilities that will be recorded as long-term assets. Analysts are worried about the company’s pricing power and it's ability to sustain profit margins. According to management, the facilities are worth about $0.7 billion.\n",
      "Bergman has negative news. May go Down!!\n",
      "Bergman Telecom's new CFO – and ex corporate finance professor – announced that the company would take on additional debt to capture more value from interest tax shields. Overall, the company will raise $0.9 billion.\n",
      "Company Ratings are about to come\n"
     ]
    },
    {
     "ename": "KeyboardInterrupt",
     "evalue": "",
     "output_type": "error",
     "traceback": [
      "\u001b[1;31m---------------------------------------------------------------------------\u001b[0m",
      "\u001b[1;31mKeyboardInterrupt\u001b[0m                         Traceback (most recent call last)",
      "Cell \u001b[1;32mIn[95], line 1\u001b[0m\n\u001b[1;32m----> 1\u001b[0m News_sentiment()\n",
      "Cell \u001b[1;32mIn[94], line 62\u001b[0m, in \u001b[0;36mNews_sentiment\u001b[1;34m()\u001b[0m\n\u001b[0;32m     60\u001b[0m                     \u001b[38;5;28mprint\u001b[39m(\u001b[38;5;124m\"\u001b[39m\u001b[38;5;124mGovernment News not foundor no effect news\u001b[39m\u001b[38;5;124m\"\u001b[39m)\n\u001b[0;32m     61\u001b[0m                     \u001b[38;5;28mprint\u001b[39m(current_news) \n\u001b[1;32m---> 62\u001b[0m time\u001b[38;5;241m.\u001b[39msleep(\u001b[38;5;241m1\u001b[39m)\n\u001b[0;32m     63\u001b[0m status  \u001b[38;5;241m=\u001b[39m requests\u001b[38;5;241m.\u001b[39mget(\u001b[38;5;124m\"\u001b[39m\u001b[38;5;124mhttp://localhost:9999/v1/case\u001b[39m\u001b[38;5;124m\"\u001b[39m, headers\u001b[38;5;241m=\u001b[39mheaders, data\u001b[38;5;241m=\u001b[39mpayload)\n\u001b[0;32m     64\u001b[0m status \u001b[38;5;241m=\u001b[39m status\u001b[38;5;241m.\u001b[39mjson()\n",
      "\u001b[1;31mKeyboardInterrupt\u001b[0m: "
     ]
    }
   ],
   "source": [
    "News_sentiment()"
   ]
  },
  {
   "cell_type": "code",
   "execution_count": 88,
   "metadata": {},
   "outputs": [
    {
     "name": "stdout",
     "output_type": "stream",
     "text": [
      "[{'news_id': 20, 'period': 2, 'tick': 166, 'ticker': '', 'headline': 'CANADA UNEMPLOYMENT RATE INCREASES', 'body': 'Statistics Canada released Canadian unemployment figures, which showed an increase in the unemployment rate from 5.8% to 5.8% over the previous month. Analysts believe that this is a signal of economic slowdown.'}, {'news_id': 19, 'period': 2, 'tick': 163, 'ticker': '', 'headline': 'News Regarding Bergman Telecom', 'body': \"Bergman Telecom's new CFO – and ex corporate finance professor – announced that the company would take on additional debt to capture more value from interest tax shields. Overall, the company will raise $3.0 billion.\"}, {'news_id': 18, 'period': 2, 'tick': 163, 'ticker': '', 'headline': 'CREDIT SPREAD', 'body': 'The credit rating agencies are expecting an increase in credit spreads in the near future.'}, {'news_id': 17, 'period': 2, 'tick': 154, 'ticker': '', 'headline': 'RATING UPDATES', 'body': 'The credit rating agencies released the following credit rating updates:<br>Ackroyd Shipping: A+ <br>Bergman Telecom: A+ <br>Cartwright Industries: A.'}, {'news_id': 16, 'period': 2, 'tick': 148, 'ticker': '', 'headline': 'BOC SOLD MORE 3- AND 5- YEAR BONDS', 'body': 'The Bank of Canada sold $3 billion each of 3-Year and 5-Year bonds yesterday. The bid-to-cover ratios, which gauge demand by comparing the amount offered to the amount sold, were 1.45 for both maturities. This showed less than expected demand.'}, {'news_id': 15, 'period': 2, 'tick': 142, 'ticker': '', 'headline': 'News Regarding Ackroyd Shipping', 'body': \"Ackroyd Shipping has been recording a significant portion of its real estate assets as an 'off balance sheet item', understating the total value of its long-term assets. In total, the properties are estimated to be worth $1.8 billion.\"}, {'news_id': 14, 'period': 2, 'tick': 89, 'ticker': '', 'headline': 'News Regarding Bergman Telecom', 'body': \"Bergman Telecomrecently announced that it would issue $1,350 in shares, to improve its financial condition. Management's decision will have an impact on the company's assets, and, in particular, its working capital, because it will be invested in short-term and liquid marketable securities.\"}, {'news_id': 13, 'period': 2, 'tick': 52, 'ticker': '', 'headline': 'S&P 500 FALLS 1.4% AMID FURTHER DOWNGRADES OF EU SOVEREIGN DEBT', 'body': 'S&P closes lower by 1.4% from yesterday amid further European sovereign downgrades. Fitch downgrades Portugal and Italy sovereign debt to BBB-.'}, {'news_id': 12, 'period': 2, 'tick': 32, 'ticker': '', 'headline': 'News Regarding Ackroyd Shipping', 'body': \"Ackroyd Shipping has announced a new employee incentive plan, which will have an impact on the company's EBIT. Overall, operating expenses will increase by $1,400 million.\"}, {'news_id': 11, 'period': 2, 'tick': 19, 'ticker': '', 'headline': 'News Regarding Cartwright Industries', 'body': 'Cartwright Industries has announced a special dividend to all its common shareholders, after receiving important distributions from one of its subsidiaries. This will have a direct impact on the retained earnings. In total, the special dividend will be $1.4 billion.'}, {'news_id': 10, 'period': 2, 'tick': 18, 'ticker': '', 'headline': 'BANK OF CANADA TO PROVIDE FUNDING TO INSURERS', 'body': 'The Bank of Canada has announced that it will extend emergency credit to large corporate insurers that meet certain criteria. This will hopefully add liquidity to the markets that is currently suffering from a string of bad loans.  '}, {'news_id': 9, 'period': 2, 'tick': 18, 'ticker': '', 'headline': 'CANADIAN NON-FARM PAYROLLS DATA', 'body': 'Canadian Non-Farm payrolls data for last month added 46,410, versus expectations of 45,000.'}, {'news_id': 8, 'period': 1, 'tick': 309, 'ticker': '', 'headline': 'RATING UPDATES', 'body': 'The credit rating agencies released the following credit rating updates:<br>Ackroyd Shipping: AA- <br>Bergman Telecom: A <br>Cartwright Industries: A+.'}, {'news_id': 7, 'period': 1, 'tick': 238, 'ticker': '', 'headline': 'CREDIT SPREAD', 'body': 'The credit spreads are now:<br> AAA: 0.13%, <br>AA+: 0.18%, <br>AA0.23%, <br>AA-: 0.28%, <br>A+: 0.33%, <br>A: 0.38%, <br>A-: 0.48%, <br>BBB+: 0.78%, <br>BBB: 1.03%, <br>BBB-: 1.38%, <br>BB+: 1.78%, <br>BB: 2.38%, <br>BB-: 3.08%, <br>B+: 3.88%.'}, {'news_id': 6, 'period': 1, 'tick': 203, 'ticker': '', 'headline': 'News Regarding Ackroyd Shipping', 'body': 'Ackroyd Shipping has revealed its plan to cut costs during the current industry downturn in order to maintain a strong financial position. The company has laid off workers, and will spend less on advertising. Overall, EBIT is affected by $2.2 billion.'}, {'news_id': 5, 'period': 1, 'tick': 190, 'ticker': '', 'headline': 'CREDIT SPREAD', 'body': 'The credit rating agencies are expecting a decrease in credit spreads in the near future.'}, {'news_id': 4, 'period': 1, 'tick': 154, 'ticker': '', 'headline': 'RATING UPDATES', 'body': 'The credit rating agencies released the following credit rating updates:<br>Ackroyd Shipping: A <br>Bergman Telecom: A <br>Cartwright Industries: A+.'}, {'news_id': 3, 'period': 1, 'tick': 91, 'ticker': '', 'headline': 'CANADIAN UNEMPLOYMENT DROPS', 'body': 'Canadian unemployment drops from 8.5% to 8.4%.'}, {'news_id': 2, 'period': 1, 'tick': 58, 'ticker': '', 'headline': 'News Regarding Ackroyd Shipping', 'body': \"The CEO of Ackroyd Shipping has been declared the World's Most Influential Business Persion by Bloomberg Business Week.\"}, {'news_id': 1, 'period': 1, 'tick': 1, 'ticker': '', 'headline': 'Welcome to the Fixed Income Case ', 'body': 'Developed by Gordon Sick to mimic RITC 2018'}]\n"
     ]
    }
   ],
   "source": [
    "url = \"http://localhost:9999/v1/News\"\n",
    "output = requests.get(url, headers=headers, data=payload)\n",
    "output = output.json()\n",
    "print(output)"
   ]
  },
  {
   "cell_type": "code",
   "execution_count": 89,
   "metadata": {},
   "outputs": [
    {
     "name": "stdout",
     "output_type": "stream",
     "text": [
      "Statistics Canada released Canadian unemployment figures, which showed an increase in the unemployment rate from 5.8% to 5.8% over the previous month. Analysts believe that this is a signal of economic slowdown.\n",
      "Bergman Telecom's new CFO – and ex corporate finance professor – announced that the company would take on additional debt to capture more value from interest tax shields. Overall, the company will raise $3.0 billion.\n",
      "The credit rating agencies are expecting an increase in credit spreads in the near future.\n",
      "The credit rating agencies released the following credit rating updates:<br>Ackroyd Shipping: A+ <br>Bergman Telecom: A+ <br>Cartwright Industries: A.\n",
      "The Bank of Canada sold $3 billion each of 3-Year and 5-Year bonds yesterday. The bid-to-cover ratios, which gauge demand by comparing the amount offered to the amount sold, were 1.45 for both maturities. This showed less than expected demand.\n",
      "Ackroyd Shipping has been recording a significant portion of its real estate assets as an 'off balance sheet item', understating the total value of its long-term assets. In total, the properties are estimated to be worth $1.8 billion.\n",
      "Bergman Telecomrecently announced that it would issue $1,350 in shares, to improve its financial condition. Management's decision will have an impact on the company's assets, and, in particular, its working capital, because it will be invested in short-term and liquid marketable securities.\n",
      "S&P closes lower by 1.4% from yesterday amid further European sovereign downgrades. Fitch downgrades Portugal and Italy sovereign debt to BBB-.\n",
      "Ackroyd Shipping has announced a new employee incentive plan, which will have an impact on the company's EBIT. Overall, operating expenses will increase by $1,400 million.\n",
      "Cartwright Industries has announced a special dividend to all its common shareholders, after receiving important distributions from one of its subsidiaries. This will have a direct impact on the retained earnings. In total, the special dividend will be $1.4 billion.\n",
      "The Bank of Canada has announced that it will extend emergency credit to large corporate insurers that meet certain criteria. This will hopefully add liquidity to the markets that is currently suffering from a string of bad loans.  \n",
      "Canadian Non-Farm payrolls data for last month added 46,410, versus expectations of 45,000.\n",
      "The credit rating agencies released the following credit rating updates:<br>Ackroyd Shipping: AA- <br>Bergman Telecom: A <br>Cartwright Industries: A+.\n",
      "The credit spreads are now:<br> AAA: 0.13%, <br>AA+: 0.18%, <br>AA0.23%, <br>AA-: 0.28%, <br>A+: 0.33%, <br>A: 0.38%, <br>A-: 0.48%, <br>BBB+: 0.78%, <br>BBB: 1.03%, <br>BBB-: 1.38%, <br>BB+: 1.78%, <br>BB: 2.38%, <br>BB-: 3.08%, <br>B+: 3.88%.\n",
      "Ackroyd Shipping has revealed its plan to cut costs during the current industry downturn in order to maintain a strong financial position. The company has laid off workers, and will spend less on advertising. Overall, EBIT is affected by $2.2 billion.\n",
      "The credit rating agencies are expecting a decrease in credit spreads in the near future.\n",
      "The credit rating agencies released the following credit rating updates:<br>Ackroyd Shipping: A <br>Bergman Telecom: A <br>Cartwright Industries: A+.\n",
      "Canadian unemployment drops from 8.5% to 8.4%.\n",
      "The CEO of Ackroyd Shipping has been declared the World's Most Influential Business Persion by Bloomberg Business Week.\n",
      "Developed by Gordon Sick to mimic RITC 2018\n"
     ]
    }
   ],
   "source": [
    "for item in output:\n",
    "    print(item['body'])"
   ]
  },
  {
   "cell_type": "code",
   "execution_count": 67,
   "metadata": {},
   "outputs": [],
   "source": [
    "url = \"http://localhost:9999/v1/securities\"\n",
    "output = requests.get(url, headers=headers, data=payload)\n",
    "output = output.json()"
   ]
  },
  {
   "cell_type": "code",
   "execution_count": 68,
   "metadata": {},
   "outputs": [
    {
     "name": "stdout",
     "output_type": "stream",
     "text": [
      "[{'ticker': 'ZCY1', 'type': 'RATE', 'size': 1, 'position': 0.0, 'vwap': 0.0, 'nlv': 0.0, 'last': 3.14, 'bid': 0.0, 'bid_size': 0.0, 'ask': 0.0, 'ask_size': 0.0, 'volume': 6240000.0, 'unrealized': 0.0, 'realized': 0.0, 'currency': 'CAD', 'total_volume': 6240000.0, 'limits': [{'name': 'LIMIT-BOND', 'units': 1.0}], 'interest_rate': 0.0, 'is_tradeable': False, 'is_shortable': False, 'start_period': 1, 'stop_period': 2, 'description': '%', 'unit_multiplier': 1, 'display_unit': 'Rate', 'start_price': 3.0, 'min_price': 0.0, 'max_price': 15.0, 'quoted_decimals': 2, 'trading_fee': 0.0, 'limit_order_rebate': 0.0, 'min_trade_size': 0, 'max_trade_size': 1, 'required_tickers': None, 'underlying_tickers': None, 'bond_coupon': 0.0, 'interest_payments_per_period': 0, 'base_security': '', 'fixing_ticker': None, 'api_orders_per_second': 1, 'execution_delay_ms': 0, 'interest_rate_ticker': None, 'otc_price_range': 0.0}, {'ticker': 'ZCY2', 'type': 'RATE', 'size': 1, 'position': 0.0, 'vwap': 0.0, 'nlv': 0.0, 'last': 4.06, 'bid': 0.0, 'bid_size': 0.0, 'ask': 0.0, 'ask_size': 0.0, 'volume': 6240000.0, 'unrealized': 0.0, 'realized': 0.0, 'currency': 'CAD', 'total_volume': 6240000.0, 'limits': [{'name': 'LIMIT-BOND', 'units': 1.0}], 'interest_rate': 0.0, 'is_tradeable': False, 'is_shortable': False, 'start_period': 1, 'stop_period': 2, 'description': '%', 'unit_multiplier': 1, 'display_unit': 'Rate', 'start_price': 4.0, 'min_price': 0.0, 'max_price': 15.0, 'quoted_decimals': 2, 'trading_fee': 0.0, 'limit_order_rebate': 0.0, 'min_trade_size': 0, 'max_trade_size': 1, 'required_tickers': None, 'underlying_tickers': None, 'bond_coupon': 0.0, 'interest_payments_per_period': 0, 'base_security': '', 'fixing_ticker': None, 'api_orders_per_second': 1, 'execution_delay_ms': 0, 'interest_rate_ticker': None, 'otc_price_range': 0.0}, {'ticker': 'ZCY5', 'type': 'RATE', 'size': 1, 'position': 0.0, 'vwap': 0.0, 'nlv': 0.0, 'last': 5.73, 'bid': 0.0, 'bid_size': 0.0, 'ask': 0.0, 'ask_size': 0.0, 'volume': 6240000.0, 'unrealized': 0.0, 'realized': 0.0, 'currency': 'CAD', 'total_volume': 6240000.0, 'limits': [{'name': 'LIMIT-BOND', 'units': 1.0}], 'interest_rate': 0.0, 'is_tradeable': False, 'is_shortable': False, 'start_period': 1, 'stop_period': 2, 'description': '%', 'unit_multiplier': 1, 'display_unit': 'Rate', 'start_price': 5.0, 'min_price': 0.0, 'max_price': 15.0, 'quoted_decimals': 2, 'trading_fee': 0.0, 'limit_order_rebate': 0.0, 'min_trade_size': 0, 'max_trade_size': 1, 'required_tickers': None, 'underlying_tickers': None, 'bond_coupon': 0.0, 'interest_payments_per_period': 0, 'base_security': '', 'fixing_ticker': None, 'api_orders_per_second': 1, 'execution_delay_ms': 0, 'interest_rate_ticker': None, 'otc_price_range': 0.0}, {'ticker': 'ZCY10', 'type': 'RATE', 'size': 1, 'position': 0.0, 'vwap': 0.0, 'nlv': 0.0, 'last': 5.58, 'bid': 0.0, 'bid_size': 0.0, 'ask': 0.0, 'ask_size': 0.0, 'volume': 6240000.0, 'unrealized': 0.0, 'realized': 0.0, 'currency': 'CAD', 'total_volume': 6240000.0, 'limits': [{'name': 'LIMIT-BOND', 'units': 1.0}], 'interest_rate': 0.0, 'is_tradeable': False, 'is_shortable': False, 'start_period': 1, 'stop_period': 2, 'description': '%', 'unit_multiplier': 1, 'display_unit': 'Rate', 'start_price': 5.5, 'min_price': 0.0, 'max_price': 15.0, 'quoted_decimals': 2, 'trading_fee': 0.0, 'limit_order_rebate': 0.0, 'min_trade_size': 0, 'max_trade_size': 1, 'required_tickers': None, 'underlying_tickers': None, 'bond_coupon': 0.0, 'interest_payments_per_period': 0, 'base_security': '', 'fixing_ticker': None, 'api_orders_per_second': 1, 'execution_delay_ms': 0, 'interest_rate_ticker': None, 'otc_price_range': 0.0}, {'ticker': 'GovtBondY2', 'type': 'BOND', 'size': 10, 'position': 0.0, 'vwap': 0.0, 'nlv': 0.0, 'last': 100.96, 'bid': 0.0, 'bid_size': 0.0, 'ask': 0.0, 'ask_size': 0.0, 'volume': 3439794.0, 'unrealized': 0.0, 'realized': 0.0, 'currency': 'CAD', 'total_volume': 3439794.0, 'limits': [{'name': 'LIMIT-BOND', 'units': 1.0}], 'interest_rate': 0.0, 'is_tradeable': True, 'is_shortable': True, 'start_period': 1, 'stop_period': 2, 'description': 'Short Term Govt Bond', 'unit_multiplier': 10, 'display_unit': 'Bond', 'start_price': 102.048170149127, 'min_price': 60.0, 'max_price': 150.0, 'quoted_decimals': 2, 'trading_fee': 0.02, 'limit_order_rebate': 0.0, 'min_trade_size': 0, 'max_trade_size': 1000, 'required_tickers': None, 'underlying_tickers': None, 'bond_coupon': 2.5, 'interest_payments_per_period': 0, 'base_security': '', 'fixing_ticker': None, 'api_orders_per_second': 1, 'execution_delay_ms': 0, 'interest_rate_ticker': None, 'otc_price_range': 0.0}, {'ticker': 'GovtBondY5', 'type': 'BOND', 'size': 10, 'position': 0.0, 'vwap': 0.0, 'nlv': 0.0, 'last': 97.94, 'bid': 0.0, 'bid_size': 0.0, 'ask': 0.0, 'ask_size': 0.0, 'volume': 3517294.0, 'unrealized': 0.0, 'realized': 0.0, 'currency': 'CAD', 'total_volume': 3517294.0, 'limits': [{'name': 'LIMIT-BOND', 'units': 1.0}], 'interest_rate': 0.0, 'is_tradeable': True, 'is_shortable': True, 'start_period': 1, 'stop_period': 2, 'description': 'Medium Term Govt Bond', 'unit_multiplier': 10, 'display_unit': 'Bond', 'start_price': 100.611633898569, 'min_price': 60.0, 'max_price': 150.0, 'quoted_decimals': 2, 'trading_fee': 0.02, 'limit_order_rebate': 0.0, 'min_trade_size': 0, 'max_trade_size': 1000, 'required_tickers': None, 'underlying_tickers': None, 'bond_coupon': 2.5, 'interest_payments_per_period': 0, 'base_security': '', 'fixing_ticker': None, 'api_orders_per_second': 1, 'execution_delay_ms': 0, 'interest_rate_ticker': None, 'otc_price_range': 0.0}, {'ticker': 'GovtBondY10', 'type': 'BOND', 'size': 10, 'position': 0.0, 'vwap': 0.0, 'nlv': 0.0, 'last': 96.6, 'bid': 0.0, 'bid_size': 0.0, 'ask': 0.0, 'ask_size': 0.0, 'volume': 3191867.0, 'unrealized': 0.0, 'realized': 0.0, 'currency': 'CAD', 'total_volume': 3191867.0, 'limits': [{'name': 'LIMIT-BOND', 'units': 1.0}], 'interest_rate': 0.0, 'is_tradeable': True, 'is_shortable': True, 'start_period': 1, 'stop_period': 2, 'description': 'Long Term Govt Bond', 'unit_multiplier': 10, 'display_unit': 'Bond', 'start_price': 97.6142018992661, 'min_price': 60.0, 'max_price': 150.0, 'quoted_decimals': 2, 'trading_fee': 0.02, 'limit_order_rebate': 0.0, 'min_trade_size': 0, 'max_trade_size': 1000, 'required_tickers': None, 'underlying_tickers': None, 'bond_coupon': 2.5, 'interest_payments_per_period': 0, 'base_security': '', 'fixing_ticker': None, 'api_orders_per_second': 1, 'execution_delay_ms': 0, 'interest_rate_ticker': None, 'otc_price_range': 0.0}, {'ticker': 'EquityA', 'type': 'SPOT', 'size': 1, 'position': 0.0, 'vwap': 0.0, 'nlv': 0.0, 'last': 103.58, 'bid': 0.0, 'bid_size': 0.0, 'ask': 0.0, 'ask_size': 0.0, 'volume': 6240000.0, 'unrealized': 0.0, 'realized': 0.0, 'currency': 'CAD', 'total_volume': 6240000.0, 'limits': [{'name': 'LIMIT-BOND', 'units': 1.0}], 'interest_rate': 0.0, 'is_tradeable': False, 'is_shortable': False, 'start_period': 1, 'stop_period': 2, 'description': 'Market Value of Equity', 'unit_multiplier': 1, 'display_unit': '100 millions', 'start_price': 89.9954126927161, 'min_price': 5.0, 'max_price': 500.0, 'quoted_decimals': 2, 'trading_fee': 0.0, 'limit_order_rebate': 0.0, 'min_trade_size': 0, 'max_trade_size': 1, 'required_tickers': None, 'underlying_tickers': None, 'bond_coupon': 0.0, 'interest_payments_per_period': 0, 'base_security': '', 'fixing_ticker': None, 'api_orders_per_second': 1, 'execution_delay_ms': 0, 'interest_rate_ticker': None, 'otc_price_range': 0.0}, {'ticker': 'EquityB', 'type': 'SPOT', 'size': 1, 'position': 0.0, 'vwap': 0.0, 'nlv': 0.0, 'last': 49.97, 'bid': 0.0, 'bid_size': 0.0, 'ask': 0.0, 'ask_size': 0.0, 'volume': 6240000.0, 'unrealized': 0.0, 'realized': 0.0, 'currency': 'CAD', 'total_volume': 6240000.0, 'limits': [{'name': 'LIMIT-BOND', 'units': 1.0}], 'interest_rate': 0.0, 'is_tradeable': False, 'is_shortable': False, 'start_period': 1, 'stop_period': 2, 'description': 'Market Value of Equity', 'unit_multiplier': 1, 'display_unit': '100 millions', 'start_price': 50.0059089129659, 'min_price': 5.0, 'max_price': 500.0, 'quoted_decimals': 2, 'trading_fee': 0.0, 'limit_order_rebate': 0.0, 'min_trade_size': 0, 'max_trade_size': 1, 'required_tickers': None, 'underlying_tickers': None, 'bond_coupon': 0.0, 'interest_payments_per_period': 0, 'base_security': '', 'fixing_ticker': None, 'api_orders_per_second': 1, 'execution_delay_ms': 0, 'interest_rate_ticker': None, 'otc_price_range': 0.0}, {'ticker': 'EquityC', 'type': 'SPOT', 'size': 1, 'position': 0.0, 'vwap': 0.0, 'nlv': 0.0, 'last': 75.13, 'bid': 0.0, 'bid_size': 0.0, 'ask': 0.0, 'ask_size': 0.0, 'volume': 6240000.0, 'unrealized': 0.0, 'realized': 0.0, 'currency': 'CAD', 'total_volume': 6240000.0, 'limits': [{'name': 'LIMIT-BOND', 'units': 1.0}], 'interest_rate': 0.0, 'is_tradeable': False, 'is_shortable': False, 'start_period': 1, 'stop_period': 2, 'description': 'Market Value of Equity', 'unit_multiplier': 1, 'display_unit': '100 millions', 'start_price': 75.0030081876061, 'min_price': 5.0, 'max_price': 500.0, 'quoted_decimals': 2, 'trading_fee': 0.0, 'limit_order_rebate': 0.0, 'min_trade_size': 0, 'max_trade_size': 1, 'required_tickers': None, 'underlying_tickers': None, 'bond_coupon': 0.0, 'interest_payments_per_period': 0, 'base_security': '', 'fixing_ticker': None, 'api_orders_per_second': 1, 'execution_delay_ms': 0, 'interest_rate_ticker': None, 'otc_price_range': 0.0}, {'ticker': 'CorpBondA', 'type': 'BOND', 'size': 10, 'position': 0.0, 'vwap': 0.0, 'nlv': 0.0, 'last': 78.37, 'bid': 0.0, 'bid_size': 0.0, 'ask': 0.0, 'ask_size': 0.0, 'volume': 4683603.0, 'unrealized': 0.0, 'realized': 0.0, 'currency': 'CAD', 'total_volume': 4683603.0, 'limits': [{'name': 'LIMIT-BOND', 'units': 1.0}], 'interest_rate': 0.0, 'is_tradeable': True, 'is_shortable': True, 'start_period': 1, 'stop_period': 2, 'description': 'Ackroyd Shipping', 'unit_multiplier': 10, 'display_unit': 'Bond', 'start_price': 80.9686761241797, 'min_price': 60.0, 'max_price': 150.0, 'quoted_decimals': 2, 'trading_fee': 0.02, 'limit_order_rebate': 0.0, 'min_trade_size': 0, 'max_trade_size': 1000, 'required_tickers': None, 'underlying_tickers': None, 'bond_coupon': 2.5, 'interest_payments_per_period': 0, 'base_security': '', 'fixing_ticker': None, 'api_orders_per_second': 1, 'execution_delay_ms': 0, 'interest_rate_ticker': None, 'otc_price_range': 0.0}, {'ticker': 'CorpBondB', 'type': 'BOND', 'size': 10, 'position': 0.0, 'vwap': 0.0, 'nlv': 0.0, 'last': 77.2, 'bid': 0.0, 'bid_size': 0.0, 'ask': 0.0, 'ask_size': 0.0, 'volume': 4521252.0, 'unrealized': 0.0, 'realized': 0.0, 'currency': 'CAD', 'total_volume': 4521252.0, 'limits': [{'name': 'LIMIT-BOND', 'units': 1.0}], 'interest_rate': 0.0, 'is_tradeable': True, 'is_shortable': True, 'start_period': 1, 'stop_period': 2, 'description': 'Bergman Telecom', 'unit_multiplier': 10, 'display_unit': 'Bond', 'start_price': 80.9686761241797, 'min_price': 60.0, 'max_price': 150.0, 'quoted_decimals': 2, 'trading_fee': 0.02, 'limit_order_rebate': 0.0, 'min_trade_size': 0, 'max_trade_size': 1000, 'required_tickers': None, 'underlying_tickers': None, 'bond_coupon': 2.5, 'interest_payments_per_period': 0, 'base_security': '', 'fixing_ticker': None, 'api_orders_per_second': 1, 'execution_delay_ms': 0, 'interest_rate_ticker': None, 'otc_price_range': 0.0}, {'ticker': 'CorpBondC', 'type': 'BOND', 'size': 10, 'position': 0.0, 'vwap': 0.0, 'nlv': 0.0, 'last': 77.2, 'bid': 0.0, 'bid_size': 0.0, 'ask': 0.0, 'ask_size': 0.0, 'volume': 4330667.0, 'unrealized': 0.0, 'realized': 0.0, 'currency': 'CAD', 'total_volume': 4330667.0, 'limits': [{'name': 'LIMIT-BOND', 'units': 1.0}], 'interest_rate': 0.0, 'is_tradeable': True, 'is_shortable': True, 'start_period': 1, 'stop_period': 2, 'description': 'Cartwright Industries', 'unit_multiplier': 10, 'display_unit': 'Bond', 'start_price': 80.9686761241797, 'min_price': 60.0, 'max_price': 150.0, 'quoted_decimals': 2, 'trading_fee': 0.02, 'limit_order_rebate': 0.0, 'min_trade_size': 0, 'max_trade_size': 1000, 'required_tickers': None, 'underlying_tickers': None, 'bond_coupon': 2.5, 'interest_payments_per_period': 0, 'base_security': '', 'fixing_ticker': None, 'api_orders_per_second': 1, 'execution_delay_ms': 0, 'interest_rate_ticker': None, 'otc_price_range': 0.0}, {'ticker': 'CAD', 'type': 'CURRENCY', 'size': 1, 'position': 10000000.0, 'vwap': 1.0, 'nlv': 10000000.0, 'last': 0.0, 'bid': 0.0, 'bid_size': 0.0, 'ask': 0.0, 'ask_size': 0.0, 'volume': 0.0, 'unrealized': 0.0, 'realized': 0.0, 'currency': '', 'total_volume': 0.0, 'limits': [{'name': 'LIMIT-CASH', 'units': 1.0}], 'interest_rate': 0.0, 'is_tradeable': False, 'is_shortable': True, 'start_period': 1, 'stop_period': 2, 'description': 'Currency', 'unit_multiplier': 1, 'display_unit': 'Dollar', 'start_price': 1.0, 'min_price': 1.0, 'max_price': 1.0, 'quoted_decimals': 2, 'trading_fee': 0.0, 'limit_order_rebate': 0.0, 'min_trade_size': 0, 'max_trade_size': 1000000, 'required_tickers': None, 'underlying_tickers': None, 'bond_coupon': 0.0, 'interest_payments_per_period': 26, 'base_security': '', 'fixing_ticker': None, 'api_orders_per_second': 1, 'execution_delay_ms': 0, 'interest_rate_ticker': None, 'otc_price_range': 0.0}]\n"
     ]
    }
   ],
   "source": [
    "print(output)"
   ]
  },
  {
   "cell_type": "code",
   "execution_count": 98,
   "metadata": {},
   "outputs": [
    {
     "name": "stdout",
     "output_type": "stream",
     "text": [
      "89\n"
     ]
    }
   ],
   "source": [
    "counter = 0\n",
    "string = 'CS geek, part-time trader, full-time reader. Passionate about self-help and global economic analyses.'\n",
    "for a in string:\n",
    "    if a != ' ':\n",
    "        counter += 1\n",
    "print(counter)        "
   ]
  },
  {
   "cell_type": "code",
   "execution_count": null,
   "metadata": {},
   "outputs": [],
   "source": []
  }
 ],
 "metadata": {
  "kernelspec": {
   "display_name": "base",
   "language": "python",
   "name": "python3"
  },
  "language_info": {
   "codemirror_mode": {
    "name": "ipython",
    "version": 3
   },
   "file_extension": ".py",
   "mimetype": "text/x-python",
   "name": "python",
   "nbconvert_exporter": "python",
   "pygments_lexer": "ipython3",
   "version": "3.11.5"
  }
 },
 "nbformat": 4,
 "nbformat_minor": 2
}
