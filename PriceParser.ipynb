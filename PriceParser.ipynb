{
 "cells": [
  {
   "cell_type": "code",
   "execution_count": 21,
   "metadata": {},
   "outputs": [],
   "source": [
    "import signal\n",
    "import requests\n",
    "import time\n",
    "import sys\n",
    "import ritc\n",
    "import pandas as pd"
   ]
  },
  {
   "cell_type": "code",
   "execution_count": 2,
   "metadata": {},
   "outputs": [],
   "source": [
    "API_KEY = {'X-API-Key':'3PAFQ3IA'}"
   ]
  },
  {
   "cell_type": "code",
   "execution_count": 50,
   "metadata": {},
   "outputs": [],
   "source": [
    "def get_ticker(df1 = []):\n",
    "    payload = {}\n",
    "    headers = {\n",
    "    'X-API-Key': '3PAFQ3IA',\n",
    "    'ticker':'RB'\n",
    "    }\n",
    "    try:\n",
    "        current_tick = requests.get(f\"http://localhost:9999/v1/case\", headers=headers, data=payload)\n",
    "        current_tick = current_tick.json()['tick']\n",
    "        securities = requests.get(f\"http://localhost:9999/v1/securities\", headers=headers, data=payload)\n",
    "        securities = securities.json()\n",
    "        news = requests.get(f\"http://localhost:9999/v1/news\", headers=headers, data=payload)\n",
    "        news = news.json()[0]['body']\n",
    "        df_securities = pd.DataFrame(securities)\n",
    "        df_securities['current_tick'] = current_tick\n",
    "        df_securities['lastest_news'] = news\n",
    "        if len(df1)>0:\n",
    "            joined_dataframe = pd.concat([df1, df_securities], axis=0, ignore_index=True)        \n",
    "            return joined_dataframe\n",
    "    except:\n",
    "        print(\"Case not active or error while getting data\")    \n",
    "    return df_securities"
   ]
  },
  {
   "cell_type": "code",
   "execution_count": 52,
   "metadata": {},
   "outputs": [],
   "source": [
    "def main_price_check():\n",
    "    Flag = True\n",
    "    try:\n",
    "        csv_file_path = 'Price.csv'\n",
    "        df_securities = pd.read_csv(csv_file_path)\n",
    "    except:\n",
    "        df_securities = []    \n",
    "    payload = {}\n",
    "    headers = {\n",
    "    'X-API-Key': '3PAFQ3IA',\n",
    "    'ticker':'RB'\n",
    "    }\n",
    "    while Flag:\n",
    "        status = requests.get(f\"http://localhost:9999/v1/case\", headers=headers, data=payload)\n",
    "        status = status.json()['status']\n",
    "        if status == 'ACTIVE':\n",
    "            if len(df_securities) == 0:\n",
    "                df_securities = get_ticker()\n",
    "            else:\n",
    "                df_securities = get_ticker(df_securities)\n",
    "            time.sleep(0.994)\n",
    "        else:\n",
    "            time.sleep(1)\n",
    "            Flag =False          \n",
    "    df_securities.to_csv(f'Price.csv', index=False)"
   ]
  },
  {
   "cell_type": "code",
   "execution_count": 53,
   "metadata": {},
   "outputs": [],
   "source": [
    "def main():\n",
    "    my_counter = 12\n",
    "    for a in range(my_counter):\n",
    "        main_price_check()\n",
    "        time.sleep(61)\n",
    "    print(f\"Done with {my_counter} rounds\")"
   ]
  },
  {
   "cell_type": "code",
   "execution_count": 54,
   "metadata": {},
   "outputs": [
    {
     "ename": "IndexError",
     "evalue": "list index out of range",
     "output_type": "error",
     "traceback": [
      "\u001b[1;31m---------------------------------------------------------------------------\u001b[0m",
      "\u001b[1;31mIndexError\u001b[0m                                Traceback (most recent call last)",
      "Cell \u001b[1;32mIn[54], line 1\u001b[0m\n\u001b[1;32m----> 1\u001b[0m main()\n",
      "Cell \u001b[1;32mIn[53], line 4\u001b[0m, in \u001b[0;36mmain\u001b[1;34m()\u001b[0m\n\u001b[0;32m      2\u001b[0m my_counter \u001b[38;5;241m=\u001b[39m \u001b[38;5;241m12\u001b[39m\n\u001b[0;32m      3\u001b[0m \u001b[38;5;28;01mfor\u001b[39;00m a \u001b[38;5;129;01min\u001b[39;00m \u001b[38;5;28mrange\u001b[39m(my_counter):\n\u001b[1;32m----> 4\u001b[0m     main_price_check()\n\u001b[0;32m      5\u001b[0m     time\u001b[38;5;241m.\u001b[39msleep(\u001b[38;5;241m61\u001b[39m)\n\u001b[0;32m      6\u001b[0m \u001b[38;5;28mprint\u001b[39m(\u001b[38;5;124mf\u001b[39m\u001b[38;5;124m\"\u001b[39m\u001b[38;5;124mDone with \u001b[39m\u001b[38;5;132;01m{\u001b[39;00mmy_counter\u001b[38;5;132;01m}\u001b[39;00m\u001b[38;5;124m rounds\u001b[39m\u001b[38;5;124m\"\u001b[39m)\n",
      "Cell \u001b[1;32mIn[52], line 20\u001b[0m, in \u001b[0;36mmain_price_check\u001b[1;34m()\u001b[0m\n\u001b[0;32m     18\u001b[0m         df_securities \u001b[38;5;241m=\u001b[39m get_ticker()\n\u001b[0;32m     19\u001b[0m     \u001b[38;5;28;01melse\u001b[39;00m:\n\u001b[1;32m---> 20\u001b[0m         df_securities \u001b[38;5;241m=\u001b[39m get_ticker(df_securities)\n\u001b[0;32m     21\u001b[0m     time\u001b[38;5;241m.\u001b[39msleep(\u001b[38;5;241m0.994\u001b[39m)\n\u001b[0;32m     22\u001b[0m \u001b[38;5;28;01melse\u001b[39;00m:\n",
      "Cell \u001b[1;32mIn[50], line 12\u001b[0m, in \u001b[0;36mget_ticker\u001b[1;34m(df1)\u001b[0m\n\u001b[0;32m     10\u001b[0m securities \u001b[38;5;241m=\u001b[39m securities\u001b[38;5;241m.\u001b[39mjson()\n\u001b[0;32m     11\u001b[0m news \u001b[38;5;241m=\u001b[39m requests\u001b[38;5;241m.\u001b[39mget(\u001b[38;5;124mf\u001b[39m\u001b[38;5;124m\"\u001b[39m\u001b[38;5;124mhttp://localhost:9999/v1/news\u001b[39m\u001b[38;5;124m\"\u001b[39m, headers\u001b[38;5;241m=\u001b[39mheaders, data\u001b[38;5;241m=\u001b[39mpayload)\n\u001b[1;32m---> 12\u001b[0m news \u001b[38;5;241m=\u001b[39m news\u001b[38;5;241m.\u001b[39mjson()[\u001b[38;5;241m0\u001b[39m][\u001b[38;5;124m'\u001b[39m\u001b[38;5;124mbody\u001b[39m\u001b[38;5;124m'\u001b[39m]\n\u001b[0;32m     13\u001b[0m df_securities \u001b[38;5;241m=\u001b[39m pd\u001b[38;5;241m.\u001b[39mDataFrame(securities)\n\u001b[0;32m     14\u001b[0m df_securities[\u001b[38;5;124m'\u001b[39m\u001b[38;5;124mcurrent_tick\u001b[39m\u001b[38;5;124m'\u001b[39m] \u001b[38;5;241m=\u001b[39m current_tick\n",
      "\u001b[1;31mIndexError\u001b[0m: list index out of range"
     ]
    }
   ],
   "source": [
    "main()"
   ]
  }
 ],
 "metadata": {
  "kernelspec": {
   "display_name": "base",
   "language": "python",
   "name": "python3"
  },
  "language_info": {
   "codemirror_mode": {
    "name": "ipython",
    "version": 3
   },
   "file_extension": ".py",
   "mimetype": "text/x-python",
   "name": "python",
   "nbconvert_exporter": "python",
   "pygments_lexer": "ipython3",
   "version": "3.11.5"
  }
 },
 "nbformat": 4,
 "nbformat_minor": 2
}
